{
 "cells": [
  {
   "cell_type": "code",
   "execution_count": 1,
   "metadata": {
    "collapsed": false,
    "scrolled": true
   },
   "outputs": [],
   "source": [
    "import gym_FPS\n",
    "import gym\n",
    "import random\n",
    "import threading\n",
    "from gym_FPS.utils import *\n",
    "from gym_FPS.control import *\n",
    "from gym_FPS.client2 import Client\n",
    "from time import *\n",
    "import numpy as np\n",
    "\n",
    "env=gym.make('FPSDemo-v3')\n",
    "env.set_env('10.212.47.201',5123,client_DEBUG=False,env_DEBUG=False)\n",
    "#env.set_env(client_DEBUG=False,env_DEBUG=False)\n",
    "env.new_episode()\n",
    "#env.playerai()\n",
    "sleep(1)\n",
    "team_action = 5\n",
    "team_action_flag = False\n",
    "\n",
    "sa=[]\n",
    "sb=[]\n",
    "sct=[]\n",
    "#侦察队目标\n",
    "dest_pos=[[-228.1,-1,94],[-90.6,-1,-84.7],[-90.6,-1,-84.7]]\n",
    "dest_pos2=[]\n",
    "curocean_pos= [-216.5,-0.70,-0.8]\n",
    "dest_pos_t1=[[-208.1,-1,98.6],[-131.3,12.91,112.0],[-154.1,-1,48.9],[-100.6,-1,80.1],[-58.6,-1,28.1]]\n",
    "dest_pos_t2=[[-148.7,-1,-70.8],[-159.2,-1,-2.4],[-154.1,-1,48.9],[-100.6,-1,80.1],[-58.6,-1,28.1]]"
   ]
  },
  {
   "cell_type": "code",
   "execution_count": 2,
   "metadata": {
    "collapsed": true
   },
   "outputs": [],
   "source": [
    "def receive_action():\n",
    "    global team_action\n",
    "    global team_action_flag\n",
    "    #client = Client(SEVERIP='10.180.11.122',SERVERPORT=10243,DEBUG=False)\n",
    "    client = Client(SERVERPORT=10243,DEBUG=False)\n",
    "    fff=0\n",
    "    while True:\n",
    "        msg = client.receive()\n",
    "        if msg.find(':')>-1:\n",
    "            s=msg.split(':')\n",
    "            if s[0]=='light':\n",
    "                env.select_obj(int(s[1]))\n",
    "                continue\n",
    "            if s[0]=='ui':\n",
    "                env.add_ui_prompt(s[1])\n",
    "                print('ui_prompt  %s'%s[1])\n",
    "            if s[1].find('a')>-1:\n",
    "                if fff==0:\n",
    "                    sa.append(int(s[0]))\n",
    "                    env.create_team(-1,[sa[-1]],3)\n",
    "                    sct.append(Scout(sa[-1], env, \"Pioneer\", 'team1', [dest_pos[0]], dest_pos_t1))\n",
    "                    dest_pos2.append(dest_pos[0])\n",
    "                    threading.Thread(target=sct[-1].run).start()\n",
    "                    threading.Thread(target=sct1_check,args=(sa[-1],)).start()\n",
    "                    msg=str(sa[0])+\"号侦察兵正前往目标哨点\"\n",
    "                    env.add_chat(msg=msg,obj_id=sa[0],close_time=5)\n",
    "                    env.select_obj(int(s[0]),0)\n",
    "                    fff=1\n",
    "                elif fff<3:\n",
    "                    sb.append(int(s[0]))\n",
    "                    env.create_team(-1,[sb[-1]],3)\n",
    "                    sct.append(Scout(sb[-1], env, \"Pioneer\", 'team2', [dest_pos[1]], dest_pos_t2)) \n",
    "                    dest_pos2.append(dest_pos[1])          \n",
    "                    threading.Thread(target=sct[-1].run).start()\n",
    "                    threading.Thread(target=sct2_check,args=(sb[-1],)).start()\n",
    "                    msg=str(sb[-1])+\"号侦察兵正前往目标哨点\"\n",
    "                    env.add_chat(msg=msg,obj_id=sb[-1],close_time=5)\n",
    "                    env.select_obj(int(s[0]),0)\n",
    "                    fff+=1\n",
    "            '''\n",
    "            else:\n",
    "                sb.append(int(s[0]))\n",
    "                env.create_team(-1,[sb[-1]],3)\n",
    "                sct.append(Scout(sb[-1], env, \"Pioneer\", 'team2', [dest_pos[1]], dest_pos_t2)) \n",
    "                dest_pos2.append(dest_pos[1])          \n",
    "                threading.Thread(target=sct[-1].run).start()\n",
    "                threading.Thread(target=sct2_check,args=(sb[-1],)).start()\n",
    "                msg=str(sb[-1])+\"号侦察兵正前往目标哨点\"\n",
    "                env.add_chat(msg=msg,obj_id=sb[-1],close_time=5)\n",
    "                env.select_obj(int(s[0]),0)\n",
    "            '''\n",
    "            continue\n",
    "        team_action = int(msg)\n",
    "        print('receive team_acction:%d'%team_action)\n",
    "        env.add_ui_prompt('ok')\n",
    "        team_action_flag = True\n",
    "        \n",
    "        if team_action==1:\n",
    "            team1msg='改变成警戒队型'\n",
    "        elif team_action==2:\n",
    "            team1msg='改变成护卫队型'\n",
    "        elif team_action==3:\n",
    "            team1msg='改变成进攻队型'\n",
    "        else:\n",
    "            team1msg='改变成进攻队型'\n",
    "        env.add_chat(msg=team1msg,obj_id=0,close_time=5)"
   ]
  },
  {
   "cell_type": "code",
   "execution_count": 3,
   "metadata": {
    "collapsed": false
   },
   "outputs": [],
   "source": [
    "def auto_team_action():\n",
    "    global team_action\n",
    "    global team_action_flag\n",
    "    state = 1\n",
    "    while True:\n",
    "        enemy_nearby = env.get_enemy_nearby()\n",
    "        if len(enemy_nearby) > 0 and state == 0:\n",
    "            print('auto:3')\n",
    "            print(env.states[0]['POSITION'])          \n",
    "            team1seg1='主队在行进过程中进攻敌人，成进攻队型'\n",
    "            team_action = 3\n",
    "            team_action_flag = True\n",
    "            state = 1\n",
    "            env.add_chat(msg=team1seg1,obj_id=0,close_time=5)\n",
    "        elif len(enemy_nearby) == 0 and state == 1:\n",
    "            print('auto:1')\n",
    "            team_action = 1\n",
    "            team_action_flag = True\n",
    "            state = 0\n",
    "            team1seg2='主队在行进过程中已经消灭敌人，成护卫队型'\n",
    "            env.add_chat(msg=team1seg2,obj_id=0,close_time=5)   \n",
    "        sleep(0.5)\n",
    "    "
   ]
  },
  {
   "cell_type": "code",
   "execution_count": 4,
   "metadata": {
    "collapsed": false
   },
   "outputs": [],
   "source": [
    "def get_action():\n",
    "    global team_action\n",
    "    global team_action_flag\n",
    "    count = 0;\n",
    "    while True:\n",
    "        sleep(0.01)\n",
    "        if team_action_flag:\n",
    "            print('action:%d' % team_action)\n",
    "            team_action_flag = False\n",
    "            count = 0\n",
    "        if count % 100 == 0 and (team_action == 1 or team_action == 5 or count == 0):\n",
    "            print('step:%d'%team_action)\n",
    "            env.step(team_action)\n",
    "        count += 1"
   ]
  },
  {
   "cell_type": "code",
   "execution_count": 5,
   "metadata": {
    "collapsed": false,
    "scrolled": true
   },
   "outputs": [],
   "source": [
    "#场景一：派出侦察员，并消灭敌方哨队\n",
    "player_list=env.units\n",
    "player_num=len(player_list)\n",
    "comradeteam=[]\n",
    "enemyteam=[]\n",
    "searchteam_first=[]\n",
    "searchteam_second=[]\n",
    "alertteam=[]\n",
    "towerteam=[]"
   ]
  },
  {
   "cell_type": "code",
   "execution_count": 6,
   "metadata": {
    "collapsed": false
   },
   "outputs": [],
   "source": [
    "##敌我分队初始化\n",
    "for player_id,player_name in player_list.items():\n",
    "    if player_name.find('队友')>=0:\n",
    "        comradeteam.append(player_id)\n",
    "    elif player_id ==0:\n",
    "        comradeteam.append(player_id)\n",
    "    elif player_name.find('巡逻')>=0:\n",
    "        if int(player_name[-1])<=5:\n",
    "            searchteam_first.append(player_id)\n",
    "        else:\n",
    "            searchteam_second.append(player_id)\n",
    "    elif player_name.find('驻守')>=0:\n",
    "        alertteam.append(player_id)\n",
    "    else:\n",
    "        towerteam.append(player_id)"
   ]
  },
  {
   "cell_type": "code",
   "execution_count": 7,
   "metadata": {
    "collapsed": true
   },
   "outputs": [],
   "source": [
    "def sct1_check(uid):\n",
    "    while True:\n",
    "        sleep(0.5)\n",
    "        pos=env.states[uid]['POSITION']\n",
    "        if pos[2]>50:\n",
    "            env.add_observer([-210,-1,96],80)\n",
    "            env.add_observer([-220,-1,50],80)\n",
    "            break\n",
    "    while True:\n",
    "        sleep(0.5)\n",
    "        pos=env.states[uid]['POSITION']\n",
    "        if pos[2]>87:\n",
    "            env.add_observer([-170,-1,96],80)\n",
    "            env.add_observer([-130,-1,96],80)\n",
    "            break"
   ]
  },
  {
   "cell_type": "code",
   "execution_count": 8,
   "metadata": {
    "collapsed": true
   },
   "outputs": [],
   "source": [
    "def sct2_check(uid):\n",
    "    while True:\n",
    "        sleep(0.5)\n",
    "        pos=env.states[uid]['POSITION']\n",
    "        if pos[0]>-190:\n",
    "            env.add_observer([-185,-1,-30],80)\n",
    "            break\n",
    "    while True:\n",
    "        sleep(0.5)\n",
    "        pos=env.states[uid]['POSITION']\n",
    "        if pos[0]>-95:\n",
    "            env.add_observer([-90,-1,-80],80)\n",
    "            env.add_observer([-90,-1,-30],80)\n",
    "            break"
   ]
  },
  {
   "cell_type": "code",
   "execution_count": 9,
   "metadata": {
    "collapsed": false,
    "scrolled": true
   },
   "outputs": [],
   "source": [
    "def hold_position(objid_list):\n",
    "    curpos=env.get_pos()\n",
    "    for eid in objid_list:\n",
    "        if eid in env.units.keys():\n",
    "            env.move(destPos=curpos[eid],objid_list=[eid],)"
   ]
  },
  {
   "cell_type": "code",
   "execution_count": 10,
   "metadata": {
    "collapsed": false
   },
   "outputs": [
    {
     "name": "stderr",
     "output_type": "stream",
     "text": [
      "<ipython-input-10-3dabe58d2568>:19: SyntaxWarning: name 'team_action' is used prior to global declaration\n",
      "  global team_action, team_action_flag\n"
     ]
    }
   ],
   "source": [
    "def team1_check():\n",
    "    eid=[]\n",
    "    for key, value in env.units.items():\n",
    "        if value in ['驻守18','驻守19','驻守20','驻守21']:\n",
    "            eid.append(key)\n",
    "            \n",
    "    hold_position(eid)\n",
    "    '''\n",
    "    while True:\n",
    "        sleep(0.5)\n",
    "        pos0=env.states[0]['POSITION']\n",
    "        if pos0[2] > 45 and pos0[0] > -215:\n",
    "            break\n",
    "    print('pos0:',pos0)\n",
    "    '''  \n",
    "    global team_action, team_action_flag\n",
    "    while team_action!=2:\n",
    "        sleep(0.5)\n",
    "    sleep(2)\n",
    "    team_action=2\n",
    "    team_action_flag=True\n",
    "    sleep(1)\n",
    "    env.can_attack_move(eid, destPos=[-210,-1,50],walkType='run')\n",
    "    print('eid:',eid)\n",
    "    sleep(5)\n",
    "    while True:\n",
    "        if len(set(eid) - set(env.units.keys())) == 0:\n",
    "            break\n",
    "        sleep(0.5)\n",
    "    print(env.units.keys())\n",
    "    t3 = threading.Thread(target=auto_team_action)\n",
    "    t3.start()\n",
    "    print('t3 start')\n",
    "    \n",
    "    \n",
    "    \n",
    "    while True:\n",
    "        sleep(1)\n",
    "        pos0 = env.states[0]['POSITION']\n",
    "        if pos0[2] > 65:\n",
    "            break\n",
    "            \n",
    "    env.add_obj('地道兵1', True, [-210,-1,50], -1, -1, weapon='ak47')\n",
    "    env.add_obj('地道兵2', True, [-211,-1,49], -1, -1, weapon='ak47')\n",
    "    env.add_obj('地道兵3', True, [-209,-1,49], -1, -1, weapon='ak47')\n",
    "            \n",
    "    while True:\n",
    "        sleep(1)\n",
    "        pos0=env.states[0]['POSITION']\n",
    "        if pos0[2]>80:\n",
    "            break\n",
    "    env.create_team(0, sa, 1)\n",
    "    global path_id1\n",
    "    env.remove_pathline(path_id1)\n",
    "    path_id2 = env.draw_pathline([dest_pos_t1[0], dest_pos_t1[1]])\n",
    "    print('creat team')\n",
    "       \n",
    "    while True:\n",
    "        sleep(1)\n",
    "        specialname='站岗1'\n",
    "        curexistplayer=env.units\n",
    "        curexistnames=list(curexistplayer.values())\n",
    "        if specialname not in curexistnames:\n",
    "            break\n",
    "    env.register('sys_team1',True)\n",
    "    env.remove_pathline(path_id2)\n",
    "    path_id3 = env.draw_pathline([dest_pos_t1[1], dest_pos_t1[2]])\n",
    "    team1msg='主队将攻击第一据点，请分队支援'\n",
    "    env.add_chat(msg=team1msg,obj_id=0,close_time=5)\n",
    "    print('register sys_team1')\n",
    "    \n",
    "    while True:\n",
    "        sleep(1)\n",
    "        if env.getVal('clear1'):\n",
    "            break\n",
    "    team1msg='已经消灭第一据点，将前往下个地点集合'\n",
    "    env.add_chat(msg=team1msg,obj_id=0,close_time=5)\n",
    "    env.remove_pathline(path_id3)\n",
    "    path_id4 = env.draw_pathline([dest_pos_t1[2], dest_pos_t1[3]])\n",
    "    \n",
    "    while True:\n",
    "        sleep(1)\n",
    "        pos0=env.states[0]['POSITION']\n",
    "        if get_dis(pos0, dest_pos_t1[-2], False)<10:\n",
    "            break\n",
    "    env.register('ready_team1',True)\n",
    "    env.remove_pathline(path_id4)\n",
    "    \n",
    "    while True:\n",
    "        sleep(1)\n",
    "        if env.getVal('ready_team2'):\n",
    "            break\n",
    "    team2msg='已经集合完毕，将进攻第二据点'\n",
    "    env.add_chat(msg=team2msg,obj_id=0,close_time=5)\n",
    "    path_id5 = env.draw_pathline([dest_pos_t1[3], dest_pos_t1[4]])\n",
    "    print('register ready_team1')"
   ]
  },
  {
   "cell_type": "code",
   "execution_count": 11,
   "metadata": {
    "collapsed": true
   },
   "outputs": [],
   "source": [
    "def team1_register():\n",
    "    while True:\n",
    "        sleep(1)\n",
    "        pos0=env.units[0]['POSITION']\n",
    "        if get_dis(pos0,dest_pos_t2[-4])<10:\n",
    "            break\n",
    "    env.register('sys_team1',True)\n",
    "    env.remove_pathline(path_id2)\n",
    "    path_id3 = env.draw_pathline([dest_pos_t1[1], dest_pos_t1[2]])\n",
    "    team1msg='主队将攻击第一据点，请分队先行'\n",
    "    env.add_chat(msg=team1msg,obj_id=0,close_time=5)\n",
    "    print('register sys_team1')\n",
    "    \n",
    "    while True:\n",
    "        sleep(1)\n",
    "        if env.getVal('clear1'):\n",
    "            break\n",
    "    team1msg='已经消灭第一据点，将前往下个地点集合'\n",
    "    env.add_chat(msg=team1msg,obj_id=0,close_time=5)\n",
    "    env.remove_pathline(path_id3)\n",
    "    path_id4 = env.draw_pathline([dest_pos_t1[2], dest_pos_t1[3]])\n",
    "    \n",
    "    while True:\n",
    "        sleep(1)\n",
    "        pos0=env.states[0]['POSITION']\n",
    "        if get_dis(pos0, dest_pos_t1[-2], False)<10:\n",
    "            break\n",
    "    env.register('ready_team1',True)\n",
    "    env.remove_pathline(path_id4)\n",
    "    \n",
    "    while True:\n",
    "        sleep(1)\n",
    "        if env.getVal('ready_team2'):\n",
    "            break\n",
    "    team2msg='已经集合完毕，将进攻第二据点'\n",
    "    env.add_chat(msg=team2msg,obj_id=0,close_time=5)\n",
    "    path_id5 = env.draw_pathline([dest_pos_t1[3], dest_pos_t1[4]])\n",
    "    print('register ready_team1')"
   ]
  },
  {
   "cell_type": "code",
   "execution_count": 12,
   "metadata": {
    "collapsed": false,
    "scrolled": true
   },
   "outputs": [],
   "source": [
    "env.register(\"wait_team1\",0)\n",
    "env.register(\"wait_team2\",0)\n",
    "env.register('sys_team1',False)\n",
    "env.register('sys_team2',False)"
   ]
  },
  {
   "cell_type": "code",
   "execution_count": 13,
   "metadata": {
    "collapsed": false
   },
   "outputs": [],
   "source": [
    "t1=threading.Thread(target=receive_action)\n",
    "t1.start()\n",
    "#t0=threading.Thread(target=team1_register)\n",
    "#t0.start()"
   ]
  },
  {
   "cell_type": "code",
   "execution_count": 14,
   "metadata": {
    "collapsed": false,
    "scrolled": true
   },
   "outputs": [],
   "source": [
    "##侦察员出发\n",
    "env.set_task('派遣三位侦察兵前往侦察哨点')\n",
    "sctmark=[]\n",
    "sctmark.append(env.add_map_mark(pos=dest_pos[0]))\n",
    "sctmark.append(env.add_map_mark(pos=dest_pos[1]))\n",
    "sctmark.append(env.add_map_mark(pos=dest_pos[2]))\n",
    "\n",
    "search_num=3\n",
    "comradeteam.sort()\n",
    "while len(sa)<1 or len(sb)<2:\n",
    "    sleep(0.2)\n",
    "    \n",
    "\n",
    "comrade_search=sa+sb\n"
   ]
  },
  {
   "cell_type": "code",
   "execution_count": 15,
   "metadata": {
    "collapsed": false
   },
   "outputs": [
    {
     "name": "stdout",
     "output_type": "stream",
     "text": [
      "team1: 5 , team2: 5 , our_scouts: 3\n",
      "[0, 7, 8, 9, 11]\n",
      "[1, 2, 3, 4, 5]\n"
     ]
    }
   ],
   "source": [
    "#分头行动！老大带人去打老窝，小队负责阻击敌方哨队！\n",
    "one_attackteam=[]#主队\n",
    "second_attackteam=[]\n",
    "\n",
    "rest_playerlist=env.units\n",
    "for player_id,player_name in rest_playerlist.items():\n",
    "    if player_id not in comrade_search:\n",
    "        if player_name.find('队友')>=0:\n",
    "            if len(second_attackteam) < 5:\n",
    "                second_attackteam.append(player_id)\n",
    "            else:\n",
    "                one_attackteam.append(player_id)\n",
    "        elif player_id ==0:\n",
    "            one_attackteam.append(player_id)\n",
    "print(\"team1:\",len(one_attackteam),\", team2:\",len(second_attackteam),\", our_scouts:\",len(comrade_search))\n",
    "\n",
    "one_attackteam.sort()\n",
    "second_attackteam.sort()\n",
    "print(one_attackteam)\n",
    "print(second_attackteam)\n",
    "\n",
    "if 0 in one_attackteam:\n",
    "    env.create_team(0,one_attackteam,1)\n",
    "    env.create_team(second_attackteam[0],second_attackteam,2)\n",
    "else:\n",
    "    env.create_team(one_attackteam[0],one_attackteam,2)\n",
    "    env.create_team(0,second_attackteam,1)"
   ]
  },
  {
   "cell_type": "code",
   "execution_count": 16,
   "metadata": {
    "collapsed": false,
    "scrolled": true
   },
   "outputs": [
    {
     "name": "stdout",
     "output_type": "stream",
     "text": [
      "ARRIVEDDDD [-228.1, -1, 94]\n",
      "ARRIVEDDDD [-90.6, -1, -84.7]\n",
      "ARRIVEDDDD [-90.6, -1, -84.7]\n"
     ]
    },
    {
     "data": {
      "text/plain": [
       "4"
      ]
     },
     "execution_count": 16,
     "metadata": {},
     "output_type": "execute_result"
    }
   ],
   "source": [
    "goned=[False] * search_num\n",
    "while True:\n",
    "    for j in range(search_num):\n",
    "        if goned[j]==False and sct[j].arrive(dest_pos2[j]):\n",
    "            goned[j]=True\n",
    "            msg=str(comrade_search[j])+\"号侦察兵到达目标哨点\"\n",
    "            env.add_chat(msg=msg,obj_id=comrade_search[j],close_time=5)\n",
    "            env.remove_map_mark(sctmark[j])\n",
    "    #print(goned)\n",
    "    if False in goned:\n",
    "        sleep(1)\n",
    "    else:\n",
    "        break\n",
    "        \n",
    "env.add_map_mark(pos=dest_pos_t1[-3],marktype='focus')"
   ]
  },
  {
   "cell_type": "code",
   "execution_count": 17,
   "metadata": {
    "collapsed": false,
    "scrolled": true
   },
   "outputs": [],
   "source": [
    "t2=threading.Thread(target=get_action)\n",
    "t2.start()\n",
    "#t3=threading.Thread(target=auto_team_action)\n",
    "#t3.start()\n",
    "t4=threading.Thread(target=team1_check)\n",
    "t4.start()"
   ]
  },
  {
   "cell_type": "markdown",
   "metadata": {
    "collapsed": false,
    "scrolled": true
   },
   "source": [
    "#侦察队出发\n",
    "for i in range(search_num):\n",
    "    sct = Scout(comrade_search[i], env, \"Pioneer\", scout_team[i], [dest_pos[i]], \\\n",
    "                scout_follow[i])\n",
    "    task_s = threading.Thread(target=sct.run, args=())\n",
    "    task_s.start()\n",
    "#    env.move(dest_pos[i],objid_list=[comrade_search[i]],walkType='run')"
   ]
  },
  {
   "cell_type": "code",
   "execution_count": 18,
   "metadata": {
    "collapsed": false
   },
   "outputs": [
    {
     "name": "stdout",
     "output_type": "stream",
     "text": [
      "step:5\n",
      "receive action:5\n",
      "move_follow\n"
     ]
    }
   ],
   "source": [
    "env.register(\"wait_team1\",0)\n",
    "env.register(\"wait_team2\",0)\n",
    "env.register(\"team1\", None)\n",
    "env.register(\"team2\", None)\n",
    "env.register(\"ready_team1\", False)\n",
    "env.register(\"ready_team2\", False)\n",
    "env.register(\"clear1\",False)\n",
    "env.register(\"clear2\",False)\n"
   ]
  },
  {
   "cell_type": "code",
   "execution_count": 19,
   "metadata": {
    "collapsed": false,
    "scrolled": true
   },
   "outputs": [
    {
     "name": "stdout",
     "output_type": "stream",
     "text": [
      "step:5\n",
      "receive action:5\n",
      "move_follow\n",
      "step:5\n",
      "receive action:5\n",
      "move_follow\n",
      "runit! team2 0\n"
     ]
    }
   ],
   "source": [
    "#第一战！主队去迂回，分队挡住\n",
    "\n",
    "sleep(3)\n",
    "\n",
    "task_t2 = TeamWork(\"team2\",env, second_attackteam, dest_pos_t2)\n",
    "task_thread2 = threading.Thread(target=task_t2.run, args=())\n",
    "task_thread2.start()"
   ]
  },
  {
   "cell_type": "code",
   "execution_count": 20,
   "metadata": {
    "collapsed": false,
    "scrolled": true
   },
   "outputs": [
    {
     "name": "stdout",
     "output_type": "stream",
     "text": [
      "we get monitor\n"
     ]
    }
   ],
   "source": [
    "#被敌方发现了！\n",
    "env.can_attack_move(objid_list=searchteam_first,destPos=curocean_pos)\n",
    "\n",
    "\n",
    "env.set_task('攻击第一据点')\n",
    "team1string=\"主队将采取大迂回，进攻敌人\"\n",
    "team2string=\"本小队挡住敌人，请主队采取迂回\"\n",
    "env.add_chat(msg=team2string,obj_id=second_attackteam[0],close_time=5)\n",
    "env.add_chat(msg=team1string,obj_id=0,close_time=5)\n",
    "path_id1=env.draw_pathline([[-223.0,-1,25.0], [-203,-1,95]])\n",
    "\n",
    "moniter = Moniter(env)\n",
    "moniter_task = threading.Thread(target=moniter.run, args=())\n",
    "moniter_task.start()"
   ]
  },
  {
   "cell_type": "code",
   "execution_count": 21,
   "metadata": {
    "collapsed": false,
    "scrolled": true
   },
   "outputs": [
    {
     "name": "stdout",
     "output_type": "stream",
     "text": [
      "step:5\n",
      "receive action:5\n",
      "move_follow\n"
     ]
    },
    {
     "data": {
      "text/plain": [
       "1"
      ]
     },
     "execution_count": 21,
     "metadata": {},
     "output_type": "execute_result"
    }
   ],
   "source": [
    "1"
   ]
  }
 ],
 "metadata": {
  "anaconda-cloud": {},
  "kernelspec": {
   "display_name": "Python [conda root]",
   "language": "python",
   "name": "conda-root-py"
  },
  "language_info": {
   "codemirror_mode": {
    "name": "ipython",
    "version": 3
   },
   "file_extension": ".py",
   "mimetype": "text/x-python",
   "name": "python",
   "nbconvert_exporter": "python",
   "pygments_lexer": "ipython3",
   "version": "3.5.2"
  }
 },
 "nbformat": 4,
 "nbformat_minor": 1
}
