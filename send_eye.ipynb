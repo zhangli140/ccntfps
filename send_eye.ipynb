{
 "cells": [
  {
   "cell_type": "code",
   "execution_count": 1,
   "metadata": {
    "collapsed": true
   },
   "outputs": [],
   "source": [
    "import time\n",
    "import numpy as np\n",
    "import socket\n",
    "import threading\n",
    "import sys"
   ]
  },
  {
   "cell_type": "code",
   "execution_count": null,
   "metadata": {
    "collapsed": false
   },
   "outputs": [],
   "source": [
    "\n",
    "\n",
    "eye_conn = socket.socket()\n",
    "eye_conn.setsockopt(socket.SOL_TCP, socket.TCP_NODELAY, 1)\n",
    "host = '127.0.0.1'  # socket.gethostname()\n",
    "eye_conn.connect((host, 10240))\n",
    "\n",
    "hand_conn = socket.socket()\n",
    "hand_conn.setsockopt(socket.SOL_TCP,socket.TCP_NODELAY,1)\n",
    "hand_conn.connect((host,10241))\n",
    "\n",
    "head_conn = socket.socket()\n",
    "head_conn.setsockopt(socket.SOL_TCP,socket.TCP_NODELAY,1)\n",
    "head_conn.connect((host,10242))\n",
    "\n",
    "\n",
    "\n",
    "def send_cmd(s,cmd_index,index_id=0,verbose=False):\n",
    "    cmd_dict = {1:b'[hand_index:1]',\n",
    "                2:b'[hand_index:2]',\n",
    "                3:b'[hand_index:3]',\n",
    "                4:b'[hand_index:4]',\n",
    "                5:b'[hand_index:5]',\n",
    "               6:b'[eye_index:1]',\n",
    "               7:b'[eye_direction:2]',\n",
    "               8:b'[head]'}\n",
    "    if cmd_index == 6:\n",
    "        s.send(b'[eye_index:'+bytes(str(index_id), encoding = \"utf8\")+b']')\n",
    "    elif cmd_index == 7:\n",
    "        s.send(b'[eye_direction:'+bytes(str(index_id), encoding = \"utf8\")+b']')\n",
    "    else:\n",
    "        s.send(cmd_dict.get(cmd_index,b'[]'))\n",
    "    if verbose:\n",
    "        print(cmd_dict.get(cmd_index,b'[]'))"
   ]
  },
  {
   "cell_type": "code",
   "execution_count": null,
   "metadata": {
    "collapsed": false
   },
   "outputs": [
    {
     "name": "stdout",
     "output_type": "stream",
     "text": [
      "1-5:手势 6:眼动1(空格后接数字) 7:眼动2(空格后a,b) 8:确认 其他:退出\n",
      "\n",
      "6 6\n",
      "8\n",
      "8\n",
      "6 7\n",
      "8\n",
      "8\n",
      "6 8\n",
      "8\n",
      "8\n",
      "2\n",
      "8\n"
     ]
    }
   ],
   "source": [
    "print(\"1-5:手势 6:眼动1(空格后接数字) 7:眼动2(空格后a,b) 8:确认 其他:退出\\n\")\n",
    "while True:\n",
    "    cmd = input()\n",
    "    if cmd in \"12345\":\n",
    "        send_cmd(hand_conn,int(cmd),)\n",
    "        #pass\n",
    "        \n",
    "    if cmd[0] == '6':\n",
    "        send_cmd(eye_conn,6,cmd[2:],)\n",
    "    if cmd[0] == '7':\n",
    "        send_cmd(eye_conn,7,cmd[2:],)\n",
    "        \n",
    "    if cmd == '8':\n",
    "        send_cmd(head_conn,8,0,)"
   ]
  },
  {
   "cell_type": "markdown",
   "metadata": {
    "collapsed": true
   },
   "source": [
    "def ssssss():\n",
    "    time.sleep(10)\n",
    "    send_cmd(eye_conn,6,'4',)\n",
    "    time.sleep(1)\n",
    "    send_cmd(head_conn,8,0,)\n",
    "    time.sleep(1)\n",
    "    send_cmd(eye_conn,7,'a',)\n",
    "    time.sleep(1)\n",
    "    send_cmd(head_conn,8,0,)\n",
    "    time.sleep(3)\n",
    "    send_cmd(eye_conn,6,'5',)\n",
    "    time.sleep(1)\n",
    "    send_cmd(head_conn,8,0,)\n",
    "    time.sleep(1)\n",
    "    send_cmd(eye_conn,7,'b',)\n",
    "    time.sleep(1)\n",
    "    send_cmd(head_conn,8,0,)\n",
    "    time.sleep(3)\n",
    "    send_cmd(eye_conn,6,'6',)\n",
    "    time.sleep(1)\n",
    "    send_cmd(head_conn,8,0,)\n",
    "    time.sleep(1)\n",
    "    send_cmd(eye_conn,7,'b',)\n",
    "    time.sleep(1)\n",
    "    send_cmd(head_conn,8,0,)"
   ]
  },
  {
   "cell_type": "code",
   "execution_count": null,
   "metadata": {
    "collapsed": false
   },
   "outputs": [],
   "source": [
    "#ssssss()"
   ]
  }
 ],
 "metadata": {
  "anaconda-cloud": {},
  "kernelspec": {
   "display_name": "Python [default]",
   "language": "python",
   "name": "python3"
  },
  "language_info": {
   "codemirror_mode": {
    "name": "ipython",
    "version": 3
   },
   "file_extension": ".py",
   "mimetype": "text/x-python",
   "name": "python",
   "nbconvert_exporter": "python",
   "pygments_lexer": "ipython3",
   "version": "3.5.2"
  }
 },
 "nbformat": 4,
 "nbformat_minor": 2
}
