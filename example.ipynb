{
 "cells": [
  {
   "cell_type": "code",
   "execution_count": 1,
   "metadata": {
    "collapsed": false
   },
   "outputs": [],
   "source": [
    "import gym\n",
    "import gym_FPS\n",
    "import time\n",
    "from gym_FPS.utils import *\n",
    "from tqdm import *\n",
    "import random"
   ]
  },
  {
   "cell_type": "code",
   "execution_count": 2,
   "metadata": {
    "collapsed": false
   },
   "outputs": [],
   "source": [
    "env = gym.make('FPSDemo-v3')"
   ]
  },
  {
   "cell_type": "code",
   "execution_count": 3,
   "metadata": {
    "collapsed": true
   },
   "outputs": [],
   "source": [
    "env.set_env(client_DEBUG=False,env_DEBUG=False)"
   ]
  },
  {
   "cell_type": "code",
   "execution_count": 7,
   "metadata": {
    "collapsed": false
   },
   "outputs": [
    {
     "data": {
      "text/plain": [
       "'cmd=add_obj`result=success'"
      ]
     },
     "execution_count": 7,
     "metadata": {},
     "output_type": "execute_result"
    }
   ],
   "source": [
    "env.add_obj('q',False,[-200,-1,20],leader_objid=0,team_id=1,)"
   ]
  },
  {
   "cell_type": "code",
   "execution_count": 4,
   "metadata": {
    "collapsed": false,
    "scrolled": true
   },
   "outputs": [],
   "source": [
    "obs = env.reset()"
   ]
  },
  {
   "cell_type": "code",
   "execution_count": 12,
   "metadata": {
    "collapsed": false
   },
   "outputs": [],
   "source": [
    "env.get_game_variable()\n",
    "env.move_to_ahead(angle=0.2,reachDist=1)"
   ]
  },
  {
   "cell_type": "code",
   "execution_count": 5,
   "metadata": {
    "collapsed": false
   },
   "outputs": [
    {
     "data": {
      "text/plain": [
       "{0: {'ANGLE': -6.213735e-06,\n",
       "  'DEAD': 0.0,\n",
       "  'HEALTH': 100.0,\n",
       "  'KILLCOUNT': 0.0,\n",
       "  'LAST_POSITION': [-223.8011, -0.4639101, 17.10432],\n",
       "  'PITCH': -0.003084579,\n",
       "  'PLAYER_NUMBER': 0.0,\n",
       "  'POSITION': [-223.8015, -0.5632817, 17.10405],\n",
       "  'TEAM_ID': 1.0},\n",
       " 1: {'ANGLE': 177.6309,\n",
       "  'DEAD': 0.0,\n",
       "  'HEALTH': 100.0,\n",
       "  'KILLCOUNT': 0.0,\n",
       "  'LAST_POSITION': [-222.45, -1.389525, 20.028],\n",
       "  'PITCH': 0.0,\n",
       "  'PLAYER_NUMBER': 1.0,\n",
       "  'POSITION': [-222.45, -1.389525, 20.028],\n",
       "  'TEAM_ID': 1.0},\n",
       " 2: {'ANGLE': 177.6309,\n",
       "  'DEAD': 0.0,\n",
       "  'HEALTH': 100.0,\n",
       "  'KILLCOUNT': 0.0,\n",
       "  'LAST_POSITION': [-225.53, -1.525648, 20.028],\n",
       "  'PITCH': 0.0,\n",
       "  'PLAYER_NUMBER': 2.0,\n",
       "  'POSITION': [-225.53, -1.525648, 20.028],\n",
       "  'TEAM_ID': 1.0},\n",
       " 3: {'ANGLE': 177.6309,\n",
       "  'DEAD': 0.0,\n",
       "  'HEALTH': 100.0,\n",
       "  'KILLCOUNT': 0.0,\n",
       "  'LAST_POSITION': [-224.06, -1.43712, 20.028],\n",
       "  'PITCH': 0.0,\n",
       "  'PLAYER_NUMBER': 3.0,\n",
       "  'POSITION': [-224.06, -1.43712, 20.028],\n",
       "  'TEAM_ID': 1.0},\n",
       " 4: {'ANGLE': 157.0409,\n",
       "  'DEAD': 0.0,\n",
       "  'HEALTH': 100.0,\n",
       "  'KILLCOUNT': 0.0,\n",
       "  'LAST_POSITION': [-228.2894, -1.700158, 20.00628],\n",
       "  'PITCH': 0.0,\n",
       "  'PLAYER_NUMBER': 4.0,\n",
       "  'POSITION': [-228.1849, -1.695078, 19.91855],\n",
       "  'TEAM_ID': 1.0},\n",
       " 5: {'ANGLE': 177.6309,\n",
       "  'DEAD': 0.0,\n",
       "  'HEALTH': 100.0,\n",
       "  'KILLCOUNT': 0.0,\n",
       "  'LAST_POSITION': [-226.8354, -1.608027, 20.028],\n",
       "  'PITCH': 0.0,\n",
       "  'PLAYER_NUMBER': 5.0,\n",
       "  'POSITION': [-226.8354, -1.608027, 20.028],\n",
       "  'TEAM_ID': 1.0},\n",
       " 6: {'ANGLE': 177.6309,\n",
       "  'DEAD': 0.0,\n",
       "  'HEALTH': 100.0,\n",
       "  'KILLCOUNT': 0.0,\n",
       "  'LAST_POSITION': [-191.26, 6.093227, 96.76],\n",
       "  'PITCH': 0.0,\n",
       "  'PLAYER_NUMBER': 6.0,\n",
       "  'POSITION': [-191.26, 6.093227, 96.76],\n",
       "  'TEAM_ID': 2.0},\n",
       " 7: {'ANGLE': 177.6309,\n",
       "  'DEAD': 0.0,\n",
       "  'HEALTH': 100.0,\n",
       "  'KILLCOUNT': 0.0,\n",
       "  'LAST_POSITION': [-191.26, 6.069604, 97.9],\n",
       "  'PITCH': 0.0,\n",
       "  'PLAYER_NUMBER': 7.0,\n",
       "  'POSITION': [-191.26, 6.069604, 97.9],\n",
       "  'TEAM_ID': 2.0},\n",
       " 8: {'ANGLE': 177.6309,\n",
       "  'DEAD': 0.0,\n",
       "  'HEALTH': 100.0,\n",
       "  'KILLCOUNT': 0.0,\n",
       "  'LAST_POSITION': [-191.26, 5.85058, 100.81],\n",
       "  'PITCH': 0.0,\n",
       "  'PLAYER_NUMBER': 8.0,\n",
       "  'POSITION': [-191.26, 5.85058, 100.81],\n",
       "  'TEAM_ID': 2.0},\n",
       " 9: {'ANGLE': 177.6309,\n",
       "  'DEAD': 0.0,\n",
       "  'HEALTH': 100.0,\n",
       "  'KILLCOUNT': 0.0,\n",
       "  'LAST_POSITION': [-191.26, 6.038936, 99.38],\n",
       "  'PITCH': 0.0,\n",
       "  'PLAYER_NUMBER': 9.0,\n",
       "  'POSITION': [-191.26, 6.038936, 99.38],\n",
       "  'TEAM_ID': 2.0},\n",
       " 10: {'ANGLE': 177.6309,\n",
       "  'DEAD': 0.0,\n",
       "  'HEALTH': 100.0,\n",
       "  'KILLCOUNT': 0.0,\n",
       "  'LAST_POSITION': [-191.495, 6.074804, 95.31],\n",
       "  'PITCH': 0.0,\n",
       "  'PLAYER_NUMBER': 10.0,\n",
       "  'POSITION': [-191.495, 6.074804, 95.31],\n",
       "  'TEAM_ID': 2.0},\n",
       " 11: {'ANGLE': 177.6309,\n",
       "  'DEAD': 0.0,\n",
       "  'HEALTH': 100.0,\n",
       "  'KILLCOUNT': 0.0,\n",
       "  'LAST_POSITION': [-190.495, 6.27143, 95.343],\n",
       "  'PITCH': 0.0,\n",
       "  'PLAYER_NUMBER': 11.0,\n",
       "  'POSITION': [-190.495, 6.27143, 95.343],\n",
       "  'TEAM_ID': 2.0},\n",
       " 12: {'ANGLE': 15.70549,\n",
       "  'DEAD': 0.0,\n",
       "  'HEALTH': 100.0,\n",
       "  'KILLCOUNT': 0.0,\n",
       "  'LAST_POSITION': [-222.1807, -1.907857, -15.03505],\n",
       "  'PITCH': 0.0,\n",
       "  'PLAYER_NUMBER': 12.0,\n",
       "  'POSITION': [-222.115, -1.903628, -15.15461],\n",
       "  'TEAM_ID': -1.0},\n",
       " 13: {'ANGLE': 15.70549,\n",
       "  'DEAD': 0.0,\n",
       "  'HEALTH': 100.0,\n",
       "  'KILLCOUNT': 0.0,\n",
       "  'LAST_POSITION': [-223.6653, -1.896749, -17.81984],\n",
       "  'PITCH': 0.0,\n",
       "  'PLAYER_NUMBER': 13.0,\n",
       "  'POSITION': [-223.5468, -1.893309, -17.8875],\n",
       "  'TEAM_ID': -1.0},\n",
       " 14: {'ANGLE': 353.3424,\n",
       "  'DEAD': 0.0,\n",
       "  'HEALTH': 100.0,\n",
       "  'KILLCOUNT': 0.0,\n",
       "  'LAST_POSITION': [-221.1075, -2.537581, -25.45552],\n",
       "  'PITCH': 0.0,\n",
       "  'PLAYER_NUMBER': 14.0,\n",
       "  'POSITION': [-221.065, -2.526841, -25.32656],\n",
       "  'TEAM_ID': -1.0},\n",
       " 15: {'ANGLE': 336.1725,\n",
       "  'DEAD': 0.0,\n",
       "  'HEALTH': 100.0,\n",
       "  'KILLCOUNT': 0.0,\n",
       "  'LAST_POSITION': [-153.1449, 16.93162, 52.62076],\n",
       "  'PITCH': 0.0,\n",
       "  'PLAYER_NUMBER': 15.0,\n",
       "  'POSITION': [-153.1449, 16.93162, 52.62076],\n",
       "  'TEAM_ID': -1.0},\n",
       " 16: {'ANGLE': 336.1725,\n",
       "  'DEAD': 0.0,\n",
       "  'HEALTH': 100.0,\n",
       "  'KILLCOUNT': 0.0,\n",
       "  'LAST_POSITION': [-131.6267, 16.81927, 81.92],\n",
       "  'PITCH': 0.0,\n",
       "  'PLAYER_NUMBER': 16.0,\n",
       "  'POSITION': [-131.6267, 16.81927, 81.92],\n",
       "  'TEAM_ID': -1.0},\n",
       " 17: {'ANGLE': 339.9588,\n",
       "  'DEAD': 0.0,\n",
       "  'HEALTH': 100.0,\n",
       "  'KILLCOUNT': 0.0,\n",
       "  'LAST_POSITION': [-90.89006, 5.945152, -63.64129],\n",
       "  'PITCH': 0.0,\n",
       "  'PLAYER_NUMBER': 17.0,\n",
       "  'POSITION': [-90.92439, 5.965223, -63.50925],\n",
       "  'TEAM_ID': -1.0},\n",
       " 18: {'ANGLE': 300.5573,\n",
       "  'DEAD': 0.0,\n",
       "  'HEALTH': 100.0,\n",
       "  'KILLCOUNT': 0.0,\n",
       "  'LAST_POSITION': [-94.2232, 6.320431, -67.64247],\n",
       "  'PITCH': 0.0,\n",
       "  'PLAYER_NUMBER': 18.0,\n",
       "  'POSITION': [-94.34782, 6.347137, -67.69639],\n",
       "  'TEAM_ID': -1.0},\n",
       " 19: {'ANGLE': 343.2902,\n",
       "  'DEAD': 0.0,\n",
       "  'HEALTH': 100.0,\n",
       "  'KILLCOUNT': 0.0,\n",
       "  'LAST_POSITION': [-92.20448, 6.433433, -61.56025],\n",
       "  'PITCH': 0.0,\n",
       "  'PLAYER_NUMBER': 19.0,\n",
       "  'POSITION': [-92.21976, 6.460652, -61.42468],\n",
       "  'TEAM_ID': -1.0},\n",
       " 20: {'ANGLE': 336.1725,\n",
       "  'DEAD': 0.0,\n",
       "  'HEALTH': 100.0,\n",
       "  'KILLCOUNT': 0.0,\n",
       "  'LAST_POSITION': [-115.1, 20.41323, 109.0],\n",
       "  'PITCH': 0.0,\n",
       "  'PLAYER_NUMBER': 20.0,\n",
       "  'POSITION': [-115.1, 20.41323, 109.0],\n",
       "  'TEAM_ID': -1.0},\n",
       " 21: {'ANGLE': 336.1725,\n",
       "  'DEAD': 0.0,\n",
       "  'HEALTH': 100.0,\n",
       "  'KILLCOUNT': 0.0,\n",
       "  'LAST_POSITION': [-159.5, 15.9906, -0.4],\n",
       "  'PITCH': 0.0,\n",
       "  'PLAYER_NUMBER': 21.0,\n",
       "  'POSITION': [-159.5, 15.9906, -0.4],\n",
       "  'TEAM_ID': -1.0},\n",
       " 22: {'ANGLE': 336.1725,\n",
       "  'DEAD': 0.0,\n",
       "  'HEALTH': 100.0,\n",
       "  'KILLCOUNT': 0.0,\n",
       "  'LAST_POSITION': [-51.3, 21.4471, 29.1],\n",
       "  'PITCH': 0.0,\n",
       "  'PLAYER_NUMBER': 22.0,\n",
       "  'POSITION': [-51.3, 21.4471, 29.1],\n",
       "  'TEAM_ID': -1.0},\n",
       " 23: {'ANGLE': 336.1725,\n",
       "  'DEAD': 0.0,\n",
       "  'HEALTH': 100.0,\n",
       "  'KILLCOUNT': 0.0,\n",
       "  'LAST_POSITION': [-57.2, 19.0683, -60.1],\n",
       "  'PITCH': 0.0,\n",
       "  'PLAYER_NUMBER': 23.0,\n",
       "  'POSITION': [-57.2, 19.0683, -60.1],\n",
       "  'TEAM_ID': -1.0},\n",
       " 24: {'ANGLE': 336.1725,\n",
       "  'DEAD': 0.0,\n",
       "  'HEALTH': 100.0,\n",
       "  'KILLCOUNT': 0.0,\n",
       "  'LAST_POSITION': [-140.0, 22.24098, -86.6],\n",
       "  'PITCH': 0.0,\n",
       "  'PLAYER_NUMBER': 24.0,\n",
       "  'POSITION': [-140.0, 22.24098, -86.6],\n",
       "  'TEAM_ID': -1.0}}"
      ]
     },
     "execution_count": 5,
     "metadata": {},
     "output_type": "execute_result"
    }
   ],
   "source": [
    "env.get_game_variable()"
   ]
  },
  {
   "cell_type": "code",
   "execution_count": 7,
   "metadata": {
    "collapsed": false
   },
   "outputs": [
    {
     "data": {
      "text/plain": [
       "({'cur_map_x_I': 1,\n",
       "  'cur_map_x_enemy': -1,\n",
       "  'cur_map_x_enemy_total': 2,\n",
       "  'cur_map_x_friend': 1,\n",
       "  'cur_map_y_I': 2,\n",
       "  'cur_map_y_enemy': -1,\n",
       "  'cur_map_y_enemy_total': 1,\n",
       "  'cur_map_y_friend': 3,\n",
       "  'cur_x_I': -224.92250000000001,\n",
       "  'cur_x_enemy': -999,\n",
       "  'cur_x_enemy_total': -129.47926846153845,\n",
       "  'cur_x_friend': -191.17166666666665,\n",
       "  'cur_y_I': 19.628196666666664,\n",
       "  'cur_y_enemy': -999,\n",
       "  'cur_y_enemy_total': -4.7755407692307692,\n",
       "  'cur_y_friend': 97.583833333333345,\n",
       "  'live_number_I': 6,\n",
       "  'live_number_enemy': 0,\n",
       "  'live_number_enemy_total': 13,\n",
       "  'live_number_friend': 6},\n",
       " 0,\n",
       " False,\n",
       " '')"
      ]
     },
     "execution_count": 7,
     "metadata": {},
     "output_type": "execute_result"
    }
   ],
   "source": [
    "env.step(1)"
   ]
  },
  {
   "cell_type": "code",
   "execution_count": 10,
   "metadata": {
    "collapsed": false
   },
   "outputs": [
    {
     "ename": "KeyboardInterrupt",
     "evalue": "",
     "output_type": "error",
     "traceback": [
      "\u001b[0;31m---------------------------------------------------------------------------\u001b[0m",
      "\u001b[0;31mKeyboardInterrupt\u001b[0m                         Traceback (most recent call last)",
      "\u001b[0;32m<ipython-input-10-8690255220f5>\u001b[0m in \u001b[0;36m<module>\u001b[0;34m()\u001b[0m\n\u001b[1;32m      1\u001b[0m \u001b[1;32mwhile\u001b[0m \u001b[1;32mTrue\u001b[0m\u001b[1;33m:\u001b[0m\u001b[1;33m\u001b[0m\u001b[0m\n\u001b[0;32m----> 2\u001b[0;31m     \u001b[0mtime\u001b[0m\u001b[1;33m.\u001b[0m\u001b[0msleep\u001b[0m\u001b[1;33m(\u001b[0m\u001b[1;36m1\u001b[0m\u001b[1;33m)\u001b[0m\u001b[1;33m\u001b[0m\u001b[0m\n\u001b[0m\u001b[1;32m      3\u001b[0m     \u001b[0menv\u001b[0m\u001b[1;33m.\u001b[0m\u001b[0mmove_alert\u001b[0m\u001b[1;33m(\u001b[0m\u001b[0mreachDist\u001b[0m\u001b[1;33m=\u001b[0m\u001b[1;36m1\u001b[0m\u001b[1;33m)\u001b[0m\u001b[1;33m\u001b[0m\u001b[0m\n",
      "\u001b[0;31mKeyboardInterrupt\u001b[0m: "
     ]
    }
   ],
   "source": [
    "while True:\n",
    "    time.sleep(1)\n",
    "    env.move_alert(reachDist=1)"
   ]
  },
  {
   "cell_type": "code",
   "execution_count": 6,
   "metadata": {
    "collapsed": false
   },
   "outputs": [
    {
     "ename": "KeyboardInterrupt",
     "evalue": "",
     "output_type": "error",
     "traceback": [
      "\u001b[0;31m---------------------------------------------------------------------------\u001b[0m",
      "\u001b[0;31mKeyboardInterrupt\u001b[0m                         Traceback (most recent call last)",
      "\u001b[0;32m<ipython-input-6-814f5a7ecb0f>\u001b[0m in \u001b[0;36m<module>\u001b[0;34m()\u001b[0m\n\u001b[1;32m      1\u001b[0m \u001b[0mdx\u001b[0m\u001b[1;33m=\u001b[0m\u001b[1;36m0\u001b[0m\u001b[1;33m\u001b[0m\u001b[0m\n\u001b[1;32m      2\u001b[0m \u001b[1;32mwhile\u001b[0m \u001b[1;32mTrue\u001b[0m\u001b[1;33m:\u001b[0m\u001b[1;33m\u001b[0m\u001b[0m\n\u001b[0;32m----> 3\u001b[0;31m     \u001b[0mtime\u001b[0m\u001b[1;33m.\u001b[0m\u001b[0msleep\u001b[0m\u001b[1;33m(\u001b[0m\u001b[1;36m1\u001b[0m\u001b[1;33m)\u001b[0m\u001b[1;33m\u001b[0m\u001b[0m\n\u001b[0m\u001b[1;32m      4\u001b[0m     \u001b[0m_\u001b[0m\u001b[1;33m=\u001b[0m\u001b[0menv\u001b[0m\u001b[1;33m.\u001b[0m\u001b[0mget_game_variable\u001b[0m\u001b[1;33m(\u001b[0m\u001b[1;33m)\u001b[0m\u001b[1;33m\u001b[0m\u001b[0m\n\u001b[1;32m      5\u001b[0m     \u001b[0mdx\u001b[0m\u001b[1;33m=\u001b[0m\u001b[0mmax\u001b[0m\u001b[1;33m(\u001b[0m\u001b[0mdx\u001b[0m\u001b[1;33m,\u001b[0m\u001b[0mnp\u001b[0m\u001b[1;33m.\u001b[0m\u001b[0mabs\u001b[0m\u001b[1;33m(\u001b[0m\u001b[0m_\u001b[0m\u001b[1;33m[\u001b[0m\u001b[1;36m0\u001b[0m\u001b[1;33m]\u001b[0m\u001b[1;33m[\u001b[0m\u001b[1;34m'POSITION'\u001b[0m\u001b[1;33m]\u001b[0m\u001b[1;33m[\u001b[0m\u001b[1;36m0\u001b[0m\u001b[1;33m]\u001b[0m\u001b[1;33m-\u001b[0m\u001b[0m_\u001b[0m\u001b[1;33m[\u001b[0m\u001b[1;36m0\u001b[0m\u001b[1;33m]\u001b[0m\u001b[1;33m[\u001b[0m\u001b[1;34m'LAST_POSITION'\u001b[0m\u001b[1;33m]\u001b[0m\u001b[1;33m[\u001b[0m\u001b[1;36m0\u001b[0m\u001b[1;33m]\u001b[0m\u001b[1;33m)\u001b[0m\u001b[1;33m)\u001b[0m\u001b[1;33m\u001b[0m\u001b[0m\n",
      "\u001b[0;31mKeyboardInterrupt\u001b[0m: "
     ]
    }
   ],
   "source": [
    "dx=0\n",
    "while True:\n",
    "    time.sleep(1)\n",
    "    _=env.get_game_variable()\n",
    "    dx=max(dx,np.abs(_[0]['POSITION'][0]-_[0]['LAST_POSITION'][0]))\n",
    "    env.move_alert(team_id=1,capital_id=0,reachDist=1,walkType='run')"
   ]
  },
  {
   "cell_type": "markdown",
   "metadata": {
    "collapsed": false,
    "scrolled": true
   },
   "source": [
    "for step in range(100):\n",
    "    env.playerai()\n",
    "    #map_x=action//5\n",
    "    #map_y=action%5\n",
    "    action=random.randint(1,24)#0,4,5 为不可达地图id\n",
    "    print('action:%d'%action)\n",
    "    while action==4 or action==5:\n",
    "        action=random.randint(2,24)\n",
    "        \n",
    "    obs, reward, done, _ = env.step(action)\n",
    "    if done:\n",
    "        break"
   ]
  },
  {
   "cell_type": "code",
   "execution_count": null,
   "metadata": {
    "collapsed": true
   },
   "outputs": [],
   "source": []
  },
  {
   "cell_type": "code",
   "execution_count": null,
   "metadata": {
    "collapsed": true
   },
   "outputs": [],
   "source": []
  }
 ],
 "metadata": {
  "anaconda-cloud": {},
  "kernelspec": {
   "display_name": "Python [conda root]",
   "language": "python",
   "name": "conda-root-py"
  },
  "language_info": {
   "codemirror_mode": {
    "name": "ipython",
    "version": 3
   },
   "file_extension": ".py",
   "mimetype": "text/x-python",
   "name": "python",
   "nbconvert_exporter": "python",
   "pygments_lexer": "ipython3",
   "version": "3.5.2"
  }
 },
 "nbformat": 4,
 "nbformat_minor": 1
}
